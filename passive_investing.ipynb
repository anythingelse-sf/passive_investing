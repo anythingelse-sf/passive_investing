{
 "cells": [
  {
   "cell_type": "code",
   "execution_count": 17,
   "id": "76511438-0821-449c-9ef0-7743b95af93e",
   "metadata": {},
   "outputs": [
    {
     "name": "stderr",
     "output_type": "stream",
     "text": [
      "C:\\Users\\Fragata Capital\\.conda\\envs\\dev\\lib\\site-packages\\ipykernel_launcher.py:14: SADeprecationWarning: The Engine.table_names() method is deprecated and will be removed in a future release.  Please refer to Inspector.get_table_names(). (deprecated since: 1.4)\n",
      "  \n"
     ]
    },
    {
     "data": {
      "text/plain": [
       "['GDOT', 'GS', 'PYPL', 'SQ']"
      ]
     },
     "execution_count": 17,
     "metadata": {},
     "output_type": "execute_result"
    }
   ],
   "source": [
    "# Importing the required libraries and dependencies\n",
    "import numpy as np\n",
    "import pandas as pd\n",
    "import hvplot.pandas\n",
    "import sqlalchemy\n",
    "\n",
    "# Create a temporary SQLite database and populate the database with content from the etf.db seed file\n",
    "database_connection_string = 'sqlite:///etf.db'\n",
    "\n",
    "# Create an engine to interact with the SQLite database\n",
    "engine = sqlalchemy.create_engine(database_connection_string)\n",
    "\n",
    "# Confirm that table names contained in the SQLite database.\n",
    "engine.table_names()"
   ]
  },
  {
   "cell_type": "code",
   "execution_count": 18,
   "id": "fbfedb03-cd83-4ffc-a961-38c620f41625",
   "metadata": {},
   "outputs": [],
   "source": [
    "## Analyze a single asset in the Fintech ETF"
   ]
  },
  {
   "cell_type": "code",
   "execution_count": 19,
   "id": "9ac27e25-70b3-428d-832d-b7c6a2752d12",
   "metadata": {},
   "outputs": [],
   "source": [
    "# Write a SQL `SELECT` statement by using an f-string that reads all the PYPL data from the database.\n",
    "# Using the SQL `SELECT` statement, execute a query that reads the PYPL data from the database into a Pandas DataFrame"
   ]
  },
  {
   "cell_type": "code",
   "execution_count": 34,
   "id": "f95d6b6c-8c68-41f2-acc7-d858c7bb0d04",
   "metadata": {},
   "outputs": [
    {
     "data": {
      "text/plain": [
       "<sqlalchemy.engine.cursor.LegacyCursorResult at 0x1b34c714ac8>"
      ]
     },
     "execution_count": 34,
     "metadata": {},
     "output_type": "execute_result"
    }
   ],
   "source": [
    "pypl_data=(\"\"\"SELECT * FROM \"PYPL\"\n",
    "\"\"\"\n",
    ")\n",
    "engine.execute(pypl_data)"
   ]
  },
  {
   "cell_type": "code",
   "execution_count": 41,
   "id": "c7b1a66c-745f-47e4-897e-9e19b32fe084",
   "metadata": {},
   "outputs": [
    {
     "data": {
      "text/plain": [
       "['S',\n",
       " 'E',\n",
       " 'L',\n",
       " 'E',\n",
       " 'C',\n",
       " 'T',\n",
       " ' ',\n",
       " '*',\n",
       " ' ',\n",
       " 'F',\n",
       " 'R',\n",
       " 'O',\n",
       " 'M',\n",
       " ' ',\n",
       " '\"',\n",
       " 'P',\n",
       " 'Y',\n",
       " 'P',\n",
       " 'L',\n",
       " '\"',\n",
       " '\\n']"
      ]
     },
     "execution_count": 41,
     "metadata": {},
     "output_type": "execute_result"
    }
   ],
   "source": [
    "list(pypl_data)"
   ]
  },
  {
   "cell_type": "code",
   "execution_count": null,
   "id": "a9fb2826-d204-4f24-abbc-941d5b837138",
   "metadata": {},
   "outputs": [],
   "source": []
  }
 ],
 "metadata": {
  "kernelspec": {
   "display_name": "dev",
   "language": "python",
   "name": "dev"
  },
  "language_info": {
   "codemirror_mode": {
    "name": "ipython",
    "version": 3
   },
   "file_extension": ".py",
   "mimetype": "text/x-python",
   "name": "python",
   "nbconvert_exporter": "python",
   "pygments_lexer": "ipython3",
   "version": "3.7.10"
  }
 },
 "nbformat": 4,
 "nbformat_minor": 5
}
